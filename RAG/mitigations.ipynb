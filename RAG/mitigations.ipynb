{
 "cells": [
  {
   "cell_type": "code",
   "execution_count": 1,
   "metadata": {},
   "outputs": [
    {
     "data": {
      "text/html": [
       "<div>\n",
       "<style scoped>\n",
       "    .dataframe tbody tr th:only-of-type {\n",
       "        vertical-align: middle;\n",
       "    }\n",
       "\n",
       "    .dataframe tbody tr th {\n",
       "        vertical-align: top;\n",
       "    }\n",
       "\n",
       "    .dataframe thead th {\n",
       "        text-align: right;\n",
       "    }\n",
       "</style>\n",
       "<table border=\"1\" class=\"dataframe\">\n",
       "  <thead>\n",
       "    <tr style=\"text-align: right;\">\n",
       "      <th></th>\n",
       "      <th>TechniqueID</th>\n",
       "      <th>MitigationID</th>\n",
       "      <th>MitigationName</th>\n",
       "      <th>MitigationDescription</th>\n",
       "    </tr>\n",
       "  </thead>\n",
       "  <tbody>\n",
       "    <tr>\n",
       "      <th>0</th>\n",
       "      <td>T1548</td>\n",
       "      <td>M1047</td>\n",
       "      <td>Audit</td>\n",
       "      <td>Check for common UAC bypass weaknesses on Wind...</td>\n",
       "    </tr>\n",
       "    <tr>\n",
       "      <th>1</th>\n",
       "      <td>T1548</td>\n",
       "      <td>M1038</td>\n",
       "      <td>Execution Prevention</td>\n",
       "      <td>System settings can prevent applications from ...</td>\n",
       "    </tr>\n",
       "    <tr>\n",
       "      <th>2</th>\n",
       "      <td>T1548</td>\n",
       "      <td>M1028</td>\n",
       "      <td>Operating System Configuration</td>\n",
       "      <td>Applications with known vulnerabilities or kno...</td>\n",
       "    </tr>\n",
       "    <tr>\n",
       "      <th>3</th>\n",
       "      <td>T1548</td>\n",
       "      <td>M1026</td>\n",
       "      <td>Privileged Account Management</td>\n",
       "      <td>Remove users from the local administrator grou...</td>\n",
       "    </tr>\n",
       "    <tr>\n",
       "      <th>4</th>\n",
       "      <td>T1548</td>\n",
       "      <td>M1022</td>\n",
       "      <td>Restrict File and Directory Permissions</td>\n",
       "      <td>The sudoers file should be strictly edited suc...</td>\n",
       "    </tr>\n",
       "  </tbody>\n",
       "</table>\n",
       "</div>"
      ],
      "text/plain": [
       "  TechniqueID MitigationID                           MitigationName  \\\n",
       "0       T1548        M1047                                    Audit   \n",
       "1       T1548        M1038                     Execution Prevention   \n",
       "2       T1548        M1028           Operating System Configuration   \n",
       "3       T1548        M1026            Privileged Account Management   \n",
       "4       T1548        M1022  Restrict File and Directory Permissions   \n",
       "\n",
       "                               MitigationDescription  \n",
       "0  Check for common UAC bypass weaknesses on Wind...  \n",
       "1  System settings can prevent applications from ...  \n",
       "2  Applications with known vulnerabilities or kno...  \n",
       "3  Remove users from the local administrator grou...  \n",
       "4  The sudoers file should be strictly edited suc...  "
      ]
     },
     "execution_count": 1,
     "metadata": {},
     "output_type": "execute_result"
    }
   ],
   "source": [
    "import pandas as pd\n",
    "\n",
    "file_path = 'mitigations.xlsx'\n",
    "data = pd.read_excel(file_path)\n",
    "\n",
    "data.head()\n"
   ]
  },
  {
   "cell_type": "code",
   "execution_count": 2,
   "metadata": {},
   "outputs": [
    {
     "name": "stderr",
     "output_type": "stream",
     "text": [
      "/home/is1ab/anaconda3/envs/techniqueKG/lib/python3.7/site-packages/tqdm/auto.py:21: TqdmWarning: IProgress not found. Please update jupyter and ipywidgets. See https://ipywidgets.readthedocs.io/en/stable/user_install.html\n",
      "  from .autonotebook import tqdm as notebook_tqdm\n",
      "Loading checkpoint shards: 100%|██████████| 2/2 [00:04<00:00,  2.28s/it]\n",
      "Xformers is not installed correctly. If you want to use memory_efficient_attention to accelerate training use the following command to install Xformers\n",
      "pip install xformers.\n"
     ]
    },
    {
     "name": "stdout",
     "output_type": "stream",
     "text": [
      "You are an assistant for a cybersecurity analyst. Use the following pieces of retrieved context to answer the question. Use these sentences maximum and keep the answer concise. Please refer to the entered CTI and Context to generate a mitigation report.\n",
      "\n",
      "Question: Exaramel for Linux can execute commands with high privileges via a specific binary with setuid functionality\n",
      "\n",
      "Context: Check for common UAC bypass weaknesses on Windows systems to be aware of the risk posture and address issues where appropriate.[1] System settings can prevent applications from running that haven't been downloaded from legitimate repositories which may help mitigate some of these issues. Not allowing unsigned applications from being run may also mitigate some risk. Applications with known vulnerabilities or known shell escapes should not have the setuid or setgid bits set to reduce potential damage if an application is compromised. Additionally, the number of programs with setuid or setgid bits set should be minimized across a system. Ensuring that the sudo tty_tickets setting is enabled will prevent this leakage across tty sessions. Remove users from the local administrator group on systems.By requiring a password, even if an adversary can get terminal access, they must know the password to run anything in the sudoers file. Setting the timestamp_timeout to 0 will require the user to input their password every time sudo is executed. The sudoers file should be strictly edited such that passwords are always required and that users can't spawn risky processes as users with higher privilege. Although UAC bypass techniques exist, it is still prudent to use the highest enforcement level for UAC when possible and mitigate bypass opportunities that exist with techniques such as DLL Search Order Hijacking. Limit the privileges of cloud accounts to assume, create, or impersonate additional roles, policies, and permissions to only those required. Where just-in-time access is enabled, consider requiring manual approval for temporary elevation of privileges.\n",
      "\n",
      "Answer:\n",
      "Based on the provided context, the mitigation report for the risk of Exaramel for Linux executing commands with high privileges via a specific binary with setuid functionality is as follows:\n",
      "\n",
      "1. Disable setuid and setgid bits for applications with known vulnerabilities or shell escapes.\n",
      "2. Minimize the number of programs with setuid or setgid bits set across the system.\n",
      "3. Enable the sudo tty_tickets setting to prevent leakage of sudo privileges across tty sessions.\n",
      "4. Remove users from the local administrator group on systems.\n",
      "5. Require a password for sudo execution by setting the timestamp_timeout to 0.\n",
      "6. Edit the sudoers file to strictly require passwords for all sudo executions and limit the privileges of cloud accounts to only those required.\n",
      "7. Consider requiring manual approval for temporary elevation of privileges where just-in-time access is enabled.\n",
      "\n",
      "By implementing these mitigations, the risk of Exaramel for Linux executing commands with high privileges via a specific binary with setuid functionality can be significantly reduced.\n"
     ]
    }
   ],
   "source": [
    "import pandas as pd\n",
    "from transformers import pipeline\n",
    "\n",
    "pipe = pipeline(\"text-generation\", model=\"meta-llama/Llama-2-7b-chat-hf\", max_new_tokens=512)\n",
    "\n",
    "def generate_prompt(technique_id, data_path, question):\n",
    "    data = pd.read_excel(data_path)\n",
    "    \n",
    "    filtered_data = data[data['TechniqueID'] == technique_id]\n",
    "    \n",
    "    context = \" \".join(filtered_data['MitigationDescription'].tolist())\n",
    "    \n",
    "    full_prompt = f\"You are an assistant for a cybersecurity analyst. Use the following pieces of retrieved context to answer the question. Use these sentences maximum and keep the answer concise. Please refer to the entered CTI and Context to generate a mitigation report.\\n\\nQuestion: {question}\\n\\nContext: {context}\\n\\nAnswer:\"\n",
    "    \n",
    "    response = pipe(full_prompt)[0]['generated_text']\n",
    "    \n",
    "    return response\n",
    "\n",
    "technique = \"T1548\"\n",
    "data_path = 'mitigations.xlsx'\n",
    "question = \"Exaramel for Linux can execute commands with high privileges via a specific binary with setuid functionality\"\n",
    "response = generate_prompt(technique, data_path, question)\n",
    "print(response)\n"
   ]
  },
  {
   "cell_type": "code",
   "execution_count": 3,
   "metadata": {},
   "outputs": [
    {
     "name": "stdout",
     "output_type": "stream",
     "text": [
      "You are an assistant for a cybersecurity analyst. Use the following pieces of retrieved context to answer the question. Use these sentences maximum and keep the answer concise. Please refer to the entered CTI and Context to generate a mitigation report.\n",
      "\n",
      "Question: Exaramel for Linux can execute commands with high privileges via a specific binary with setuid functionality\n",
      "\n",
      "Context: Check for common UAC bypass weaknesses on Windows systems to be aware of the risk posture and address issues where appropriate.[1] System settings can prevent applications from running that haven't been downloaded from legitimate repositories which may help mitigate some of these issues. Not allowing unsigned applications from being run may also mitigate some risk. Applications with known vulnerabilities or known shell escapes should not have the setuid or setgid bits set to reduce potential damage if an application is compromised. Additionally, the number of programs with setuid or setgid bits set should be minimized across a system. Ensuring that the sudo tty_tickets setting is enabled will prevent this leakage across tty sessions. Remove users from the local administrator group on systems.By requiring a password, even if an adversary can get terminal access, they must know the password to run anything in the sudoers file. Setting the timestamp_timeout to 0 will require the user to input their password every time sudo is executed. The sudoers file should be strictly edited such that passwords are always required and that users can't spawn risky processes as users with higher privilege. Although UAC bypass techniques exist, it is still prudent to use the highest enforcement level for UAC when possible and mitigate bypass opportunities that exist with techniques such as DLL Search Order Hijacking. Limit the privileges of cloud accounts to assume, create, or impersonate additional roles, policies, and permissions to only those required. Where just-in-time access is enabled, consider requiring manual approval for temporary elevation of privileges.\n",
      "\n",
      "Answer:\n",
      "Based on the provided context, the mitigation report for the risk of Exaramel for Linux executing commands with high privileges via a specific binary with setuid functionality is as follows:\n",
      "\n",
      "1. Disable setuid and setgid bits for applications with known vulnerabilities or shell escapes.\n",
      "2. Minimize the number of programs with setuid or setgid bits set across the system.\n",
      "3. Enable the sudo tty_tickets setting to prevent leakage of sudo privileges across tty sessions.\n",
      "4. Remove users from the local administrator group on systems.\n",
      "5. Require a password for sudo execution by setting the timestamp_timeout to 0.\n",
      "6. Edit the sudoers file to strictly require passwords for all sudo executions and limit the privileges of cloud accounts to only those required.\n",
      "7. Consider requiring manual approval for temporary elevation of privileges where just-in-time access is enabled.\n",
      "\n",
      "By implementing these mitigations, the risk of Exaramel for Linux executing commands with high privileges via a specific binary with setuid functionality can be significantly reduced.\n"
     ]
    }
   ],
   "source": [
    "print(response)"
   ]
  }
 ],
 "metadata": {
  "kernelspec": {
   "display_name": "langchain",
   "language": "python",
   "name": "python3"
  },
  "language_info": {
   "codemirror_mode": {
    "name": "ipython",
    "version": 3
   },
   "file_extension": ".py",
   "mimetype": "text/x-python",
   "name": "python",
   "nbconvert_exporter": "python",
   "pygments_lexer": "ipython3",
   "version": "3.7.12"
  }
 },
 "nbformat": 4,
 "nbformat_minor": 2
}
