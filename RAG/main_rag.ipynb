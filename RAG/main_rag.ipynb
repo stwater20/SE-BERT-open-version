{
 "cells": [
  {
   "cell_type": "code",
   "execution_count": 4,
   "metadata": {},
   "outputs": [
    {
     "name": "stdout",
     "output_type": "stream",
     "text": [
      "Note: you may need to restart the kernel to use updated packages.\n"
     ]
    }
   ],
   "source": [
    "%pip install --upgrade --quiet  langchain langchain-community langchainhub langchain-openai chromadb bs4 jq"
   ]
  },
  {
   "cell_type": "code",
   "execution_count": 1,
   "metadata": {},
   "outputs": [],
   "source": [
    "import getpass\n",
    "import os\n",
    "\n",
    "os.environ[\"OPENAI_API_KEY\"] = \"\"\n",
    "#cvc"
   ]
  },
  {
   "cell_type": "code",
   "execution_count": 2,
   "metadata": {},
   "outputs": [],
   "source": [
    "os.environ[\"LANGCHAIN_TRACING_V2\"] = \"true\"\n",
    "os.environ[\"LANGCHAIN_ENDPOINT\"]=\"https://api.smith.langchain.com\"\n",
    "os.environ[\"LANGCHAIN_API_KEY\"] = \"\""
   ]
  },
  {
   "cell_type": "code",
   "execution_count": 3,
   "metadata": {},
   "outputs": [],
   "source": [
    "import bs4\n",
    "from langchain import hub\n",
    "from langchain.text_splitter import RecursiveCharacterTextSplitter, RecursiveJsonSplitter\n",
    "from langchain_community.document_loaders import WebBaseLoader,JSONLoader\n",
    "from langchain_community.vectorstores import Chroma\n",
    "from langchain_core.output_parsers import StrOutputParser\n",
    "from langchain_core.runnables import RunnablePassthrough\n",
    "from langchain_openai import ChatOpenAI, OpenAIEmbeddings"
   ]
  },
  {
   "cell_type": "code",
   "execution_count": 5,
   "metadata": {},
   "outputs": [
    {
     "data": {
      "text/html": [
       "<div>\n",
       "<style scoped>\n",
       "    .dataframe tbody tr th:only-of-type {\n",
       "        vertical-align: middle;\n",
       "    }\n",
       "\n",
       "    .dataframe tbody tr th {\n",
       "        vertical-align: top;\n",
       "    }\n",
       "\n",
       "    .dataframe thead th {\n",
       "        text-align: right;\n",
       "    }\n",
       "</style>\n",
       "<table border=\"1\" class=\"dataframe\">\n",
       "  <thead>\n",
       "    <tr style=\"text-align: right;\">\n",
       "      <th></th>\n",
       "      <th>TechniqueID</th>\n",
       "      <th>MitigationID</th>\n",
       "      <th>MitigationName</th>\n",
       "      <th>MitigationDescription</th>\n",
       "    </tr>\n",
       "  </thead>\n",
       "  <tbody>\n",
       "    <tr>\n",
       "      <th>0</th>\n",
       "      <td>T1548</td>\n",
       "      <td>M1047</td>\n",
       "      <td>Audit</td>\n",
       "      <td>Check for common UAC bypass weaknesses on Wind...</td>\n",
       "    </tr>\n",
       "    <tr>\n",
       "      <th>1</th>\n",
       "      <td>T1548</td>\n",
       "      <td>M1038</td>\n",
       "      <td>Execution Prevention</td>\n",
       "      <td>System settings can prevent applications from ...</td>\n",
       "    </tr>\n",
       "    <tr>\n",
       "      <th>2</th>\n",
       "      <td>T1548</td>\n",
       "      <td>M1028</td>\n",
       "      <td>Operating System Configuration</td>\n",
       "      <td>Applications with known vulnerabilities or kno...</td>\n",
       "    </tr>\n",
       "    <tr>\n",
       "      <th>3</th>\n",
       "      <td>T1548</td>\n",
       "      <td>M1026</td>\n",
       "      <td>Privileged Account Management</td>\n",
       "      <td>Remove users from the local administrator grou...</td>\n",
       "    </tr>\n",
       "    <tr>\n",
       "      <th>4</th>\n",
       "      <td>T1548</td>\n",
       "      <td>M1022</td>\n",
       "      <td>Restrict File and Directory Permissions</td>\n",
       "      <td>The sudoers file should be strictly edited suc...</td>\n",
       "    </tr>\n",
       "    <tr>\n",
       "      <th>...</th>\n",
       "      <td>...</td>\n",
       "      <td>...</td>\n",
       "      <td>...</td>\n",
       "      <td>...</td>\n",
       "    </tr>\n",
       "    <tr>\n",
       "      <th>463</th>\n",
       "      <td>T1047</td>\n",
       "      <td>M1040</td>\n",
       "      <td>Behavior Prevention on Endpoint</td>\n",
       "      <td>On Windows 10, enable Attack Surface Reduction...</td>\n",
       "    </tr>\n",
       "    <tr>\n",
       "      <th>464</th>\n",
       "      <td>T1047</td>\n",
       "      <td>M1038</td>\n",
       "      <td>Execution Prevention</td>\n",
       "      <td>Use application control configured to block ex...</td>\n",
       "    </tr>\n",
       "    <tr>\n",
       "      <th>465</th>\n",
       "      <td>T1047</td>\n",
       "      <td>M1026</td>\n",
       "      <td>Privileged Account Management</td>\n",
       "      <td>Prevent credential overlap across systems of a...</td>\n",
       "    </tr>\n",
       "    <tr>\n",
       "      <th>466</th>\n",
       "      <td>T1047</td>\n",
       "      <td>M1018</td>\n",
       "      <td>User Account Management</td>\n",
       "      <td>By default, only administrators are allowed to...</td>\n",
       "    </tr>\n",
       "    <tr>\n",
       "      <th>467</th>\n",
       "      <td>T1220</td>\n",
       "      <td>M1038</td>\n",
       "      <td>Execution Prevention</td>\n",
       "      <td>If msxsl.exe is unnecessary, then block its ex...</td>\n",
       "    </tr>\n",
       "  </tbody>\n",
       "</table>\n",
       "<p>468 rows × 4 columns</p>\n",
       "</div>"
      ],
      "text/plain": [
       "    TechniqueID MitigationID                           MitigationName  \\\n",
       "0         T1548        M1047                                    Audit   \n",
       "1         T1548        M1038                     Execution Prevention   \n",
       "2         T1548        M1028           Operating System Configuration   \n",
       "3         T1548        M1026            Privileged Account Management   \n",
       "4         T1548        M1022  Restrict File and Directory Permissions   \n",
       "..          ...          ...                                      ...   \n",
       "463       T1047        M1040          Behavior Prevention on Endpoint   \n",
       "464       T1047        M1038                     Execution Prevention   \n",
       "465       T1047        M1026            Privileged Account Management   \n",
       "466       T1047        M1018                  User Account Management   \n",
       "467       T1220        M1038                     Execution Prevention   \n",
       "\n",
       "                                 MitigationDescription  \n",
       "0    Check for common UAC bypass weaknesses on Wind...  \n",
       "1    System settings can prevent applications from ...  \n",
       "2    Applications with known vulnerabilities or kno...  \n",
       "3    Remove users from the local administrator grou...  \n",
       "4    The sudoers file should be strictly edited suc...  \n",
       "..                                                 ...  \n",
       "463  On Windows 10, enable Attack Surface Reduction...  \n",
       "464  Use application control configured to block ex...  \n",
       "465  Prevent credential overlap across systems of a...  \n",
       "466  By default, only administrators are allowed to...  \n",
       "467  If msxsl.exe is unnecessary, then block its ex...  \n",
       "\n",
       "[468 rows x 4 columns]"
      ]
     },
     "execution_count": 5,
     "metadata": {},
     "output_type": "execute_result"
    }
   ],
   "source": [
    "import pandas as pd\n",
    "\n",
    "df = pd.read_excel('mitigations.xlsx')\n",
    "df"
   ]
  },
  {
   "cell_type": "code",
   "execution_count": 7,
   "metadata": {},
   "outputs": [],
   "source": [
    "import json\n",
    "search_technique_id = 'T1210'  \n",
    "\n",
    "filtered_df = df[df['TechniqueID'] == search_technique_id]\n",
    "\n",
    "mitigation_descriptions = list(set(filtered_df['MitigationDescription']))\n",
    "\n",
    "technique_mitigation_dict = {search_technique_id: mitigation_descriptions}\n",
    "\n",
    "output_json_path = 'mitigation_descriptions.json' \n",
    "with open(output_json_path, 'w') as json_file:\n",
    "    json.dump(technique_mitigation_dict, json_file, indent=4)"
   ]
  },
  {
   "cell_type": "code",
   "execution_count": null,
   "metadata": {},
   "outputs": [],
   "source": []
  },
  {
   "cell_type": "code",
   "execution_count": 12,
   "metadata": {},
   "outputs": [],
   "source": [
    "loader = JSONLoader(\n",
    "    file_path='mitigation_descriptions.json',\n",
    "    jq_schema = '.[] | .[] | {text: .}',\n",
    "    text_content=False)\n",
    "\n",
    "data = loader.load()"
   ]
  },
  {
   "cell_type": "code",
   "execution_count": 13,
   "metadata": {},
   "outputs": [
    {
     "data": {
      "text/plain": [
       "8"
      ]
     },
     "execution_count": 13,
     "metadata": {},
     "output_type": "execute_result"
    }
   ],
   "source": [
    "len(data)"
   ]
  },
  {
   "cell_type": "code",
   "execution_count": 14,
   "metadata": {},
   "outputs": [
    {
     "data": {
      "text/plain": [
       "[Document(page_content='{\"text\": \"Segment networks and systems appropriately to reduce access to critical systems and services to controlled methods.\"}', metadata={'source': '/home/is1ab/code/SEBERT_RAG_CTI/RAG/mitigation_descriptions.json', 'seq_num': 1}),\n",
       " Document(page_content='{\"text\": \"Regularly scan the internal network for available services to identify new and potentially vulnerable services.\"}', metadata={'source': '/home/is1ab/code/SEBERT_RAG_CTI/RAG/mitigation_descriptions.json', 'seq_num': 2}),\n",
       " Document(page_content='{\"text\": \"Develop a robust cyber threat intelligence capability to determine what types and levels of threat may use software exploits and 0-days against a particular organization.\"}', metadata={'source': '/home/is1ab/code/SEBERT_RAG_CTI/RAG/mitigation_descriptions.json', 'seq_num': 3}),\n",
       " Document(page_content='{\"text\": \"Minimize permissions and access for service accounts to limit impact of exploitation.\"}', metadata={'source': '/home/is1ab/code/SEBERT_RAG_CTI/RAG/mitigation_descriptions.json', 'seq_num': 4}),\n",
       " Document(page_content='{\"text\": \"Update software regularly by employing patch management for internal enterprise endpoints and servers.\"}', metadata={'source': '/home/is1ab/code/SEBERT_RAG_CTI/RAG/mitigation_descriptions.json', 'seq_num': 5}),\n",
       " Document(page_content='{\"text\": \"Make it difficult for adversaries to advance their operation through exploitation of undiscovered or unpatched vulnerabilities by using sandboxing. Other types of virtualization and application microsegmentation may also mitigate the impact of some types of exploitation. Risks of additional exploits and weaknesses in these systems may still exist. [42]\"}', metadata={'source': '/home/is1ab/code/SEBERT_RAG_CTI/RAG/mitigation_descriptions.json', 'seq_num': 6}),\n",
       " Document(page_content='{\"text\": \"Security applications that look for behavior used during exploitation such as Windows Defender Exploit Guard (WDEG) and the Enhanced Mitigation Experience Toolkit (EMET) can be used to mitigate some exploitation behavior. [43] Control flow integrity checking is another way to potentially identify and stop a software exploit from occurring. [44] Many of these protections depend on the architecture and target application binary for compatibility and may not work for all software or services targeted.\"}', metadata={'source': '/home/is1ab/code/SEBERT_RAG_CTI/RAG/mitigation_descriptions.json', 'seq_num': 7}),\n",
       " Document(page_content='{\"text\": \"Minimize available services to only those that are necessary.\"}', metadata={'source': '/home/is1ab/code/SEBERT_RAG_CTI/RAG/mitigation_descriptions.json', 'seq_num': 8})]"
      ]
     },
     "execution_count": 14,
     "metadata": {},
     "output_type": "execute_result"
    }
   ],
   "source": [
    "data"
   ]
  },
  {
   "cell_type": "code",
   "execution_count": 16,
   "metadata": {},
   "outputs": [],
   "source": [
    "text_splitter = RecursiveCharacterTextSplitter(chunk_size=200, chunk_overlap=50)\n",
    "splits = text_splitter.split_documents(data)"
   ]
  },
  {
   "cell_type": "code",
   "execution_count": 17,
   "metadata": {},
   "outputs": [],
   "source": [
    "vectorstore = Chroma.from_documents(documents=splits, embedding=OpenAIEmbeddings())"
   ]
  },
  {
   "cell_type": "code",
   "execution_count": 9,
   "metadata": {},
   "outputs": [],
   "source": [
    "#base_retriever = vectorstore.as_retriever(search_kwargs={\"k\" : 3})"
   ]
  },
  {
   "cell_type": "code",
   "execution_count": 10,
   "metadata": {},
   "outputs": [],
   "source": [
    "#relevant_docs = base_retriever.get_relevant_documents(\"Based on this question, what is the most likely technique ID\")"
   ]
  },
  {
   "cell_type": "code",
   "execution_count": 11,
   "metadata": {},
   "outputs": [],
   "source": [
    "#len(relevant_docs)"
   ]
  },
  {
   "cell_type": "code",
   "execution_count": 24,
   "metadata": {},
   "outputs": [],
   "source": [
    "from langchain.callbacks.manager import CallbackManager\n",
    "from langchain.callbacks.streaming_stdout import StreamingStdOutCallbackHandler\n",
    "from llama_index.core import SimpleDirectoryReader, VectorStoreIndex\n",
    "from llama_index.llms.llama_cpp import LlamaCPP\n",
    "from langchain_community.llms import LlamaCpp\n"
   ]
  },
  {
   "cell_type": "code",
   "execution_count": 27,
   "metadata": {},
   "outputs": [],
   "source": [
    "\n",
    "\n",
    "#model_path = \"llama.cpp/models/llama-2-7b-chat/llama-2_q4.gguf\"\n",
    "retriever = vectorstore.as_retriever()\n",
    "prompt = hub.pull(\"rlm/rag-prompt\")\n",
    "model_path = \"/home/is1ab/code/SEBERT_RAG_CTI/RAG/llama-2-7b-chat.Q2_K.gguf\"\n",
    "\n",
    "# llm = ChatOpenAI(model=\"gpt-4\")\n",
    "\n",
    "llm = LlamaCpp(\n",
    "    model_path=model_path,\n",
    "    n_gpu_layers=100,\n",
    "    n_batch=512,\n",
    "    n_ctx=2048,\n",
    "    f16_kv=True,\n",
    "    callback_manager=CallbackManager([StreamingStdOutCallbackHandler()]),\n",
    "    verbose=True,\n",
    ")"
   ]
  },
  {
   "cell_type": "code",
   "execution_count": 30,
   "metadata": {},
   "outputs": [],
   "source": [
    "from langchain.chains.prompt_selector import ConditionalPromptSelector, is_chat_model\n",
    "from langchain.prompts import PromptTemplate\n",
    "from langchain.prompts.chat import (\n",
    "    ChatPromptTemplate,\n",
    "    HumanMessagePromptTemplate,\n",
    "    SystemMessagePromptTemplate,\n",
    ")\n",
    "\n",
    "# Assuming docs are being passed from a retrieval system\n",
    "def format_docs(docs):\n",
    "    return \"\\n\\n\".join(doc.page_content for doc in docs)\n",
    "\n",
    "# This function is expected to fetch and format the question based on CTI and TTP_ID\n",
    "def format_question(cti, ttp_id):\n",
    "    return f\"CTI: {cti} TTP_ID: {ttp_id}\"\n",
    "\n",
    "\n",
    "prompt_template = \"\"\"Please provide a mitigation report based on the context of the following Cyber Threat Intelligence (CTI) and associated Techniques. I will supply you with several mitigation methods corresponding to these Techniques. Your task is to draft a mitigation measures report specifically for this CTI scenario.\n",
    "\n",
    "{context}\n",
    "\n",
    "Question: {question}\n",
    "Helpful Answer:\"\"\"\n",
    "\n",
    "PROMPT = PromptTemplate(\n",
    "    template=prompt_template, input_variables=[\"context\", \"question\"]\n",
    ")\n",
    "\n",
    "from langchain.chains.question_answering import load_qa_chain\n",
    "system_template = \"\"\"Use the following pieces of context to answer the user's question.\n",
    "If you don't know the answer, just say that you don't know, don't try to make up an answer.\n",
    "----------------\n",
    "{context}\"\"\"\n",
    "messages = [\n",
    "    SystemMessagePromptTemplate.from_template(system_template),\n",
    "    HumanMessagePromptTemplate.from_template(\"{question}\"),\n",
    "]\n",
    "CHAT_PROMPT = ChatPromptTemplate.from_messages(messages)\n",
    "\n",
    "\n",
    "PROMPT_SELECTOR = ConditionalPromptSelector(\n",
    "    default_prompt=PROMPT, conditionals=[(is_chat_model, CHAT_PROMPT)]\n",
    ")\n",
    "\n",
    "# Loading the QA chain\n",
    "chain = load_qa_chain(llm, chain_type=\"stuff\", prompt=PROMPT_SELECTOR.get_prompt(llm))"
   ]
  },
  {
   "cell_type": "code",
   "execution_count": 41,
   "metadata": {},
   "outputs": [
    {
     "data": {
      "text/plain": [
       "[Document(page_content='{\"text\": \"Develop a robust cyber threat intelligence capability to determine what types and levels of threat may use software exploits and 0-days against a particular organization.\"}', metadata={'seq_num': 3, 'source': '/home/is1ab/code/SEBERT_RAG_CTI/RAG/mitigation_descriptions.json'}),\n",
       " Document(page_content='exploits and weaknesses in these systems may still exist. [42]\"}', metadata={'seq_num': 6, 'source': '/home/is1ab/code/SEBERT_RAG_CTI/RAG/mitigation_descriptions.json'}),\n",
       " Document(page_content='Experience Toolkit (EMET) can be used to mitigate some exploitation behavior. [43] Control flow integrity checking is another way to potentially identify and stop a software exploit from occurring.', metadata={'seq_num': 7, 'source': '/home/is1ab/code/SEBERT_RAG_CTI/RAG/mitigation_descriptions.json'})]"
      ]
     },
     "execution_count": 41,
     "metadata": {},
     "output_type": "execute_result"
    }
   ],
   "source": [
    "retriever = vectorstore.as_retriever(search_type=\"similarity\", search_kwargs={\"k\": 3})\n",
    "cti = \"APT28 exploited a Windows SMB Remote Code Execution Vulnerability to conduct lateral movement\"\n",
    "ttp_id = \"T1210\"\n",
    "\n",
    "question = format_question(cti, ttp_id)\n",
    "retrieved_docs = retriever.invoke(question)\n",
    "retrieved_docs"
   ]
  },
  {
   "cell_type": "code",
   "execution_count": 45,
   "metadata": {},
   "outputs": [
    {
     "name": "stdout",
     "output_type": "stream",
     "text": [
      "{'input_documents': [Document(page_content='{\"text\": \"Segment networks and systems appropriately to reduce access to critical systems and services to controlled methods.\"}', metadata={'source': '/home/is1ab/code/SEBERT_RAG_CTI/RAG/mitigation_descriptions.json', 'seq_num': 1}), Document(page_content='{\"text\": \"Regularly scan the internal network for available services to identify new and potentially vulnerable services.\"}', metadata={'source': '/home/is1ab/code/SEBERT_RAG_CTI/RAG/mitigation_descriptions.json', 'seq_num': 2}), Document(page_content='{\"text\": \"Develop a robust cyber threat intelligence capability to determine what types and levels of threat may use software exploits and 0-days against a particular organization.\"}', metadata={'source': '/home/is1ab/code/SEBERT_RAG_CTI/RAG/mitigation_descriptions.json', 'seq_num': 3}), Document(page_content='{\"text\": \"Minimize permissions and access for service accounts to limit impact of exploitation.\"}', metadata={'source': '/home/is1ab/code/SEBERT_RAG_CTI/RAG/mitigation_descriptions.json', 'seq_num': 4}), Document(page_content='{\"text\": \"Update software regularly by employing patch management for internal enterprise endpoints and servers.\"}', metadata={'source': '/home/is1ab/code/SEBERT_RAG_CTI/RAG/mitigation_descriptions.json', 'seq_num': 5}), Document(page_content='{\"text\": \"Make it difficult for adversaries to advance their operation through exploitation of undiscovered or unpatched vulnerabilities by using sandboxing. Other types of virtualization and application microsegmentation may also mitigate the impact of some types of exploitation. Risks of additional exploits and weaknesses in these systems may still exist. [42]\"}', metadata={'source': '/home/is1ab/code/SEBERT_RAG_CTI/RAG/mitigation_descriptions.json', 'seq_num': 6}), Document(page_content='{\"text\": \"Security applications that look for behavior used during exploitation such as Windows Defender Exploit Guard (WDEG) and the Enhanced Mitigation Experience Toolkit (EMET) can be used to mitigate some exploitation behavior. [43] Control flow integrity checking is another way to potentially identify and stop a software exploit from occurring. [44] Many of these protections depend on the architecture and target application binary for compatibility and may not work for all software or services targeted.\"}', metadata={'source': '/home/is1ab/code/SEBERT_RAG_CTI/RAG/mitigation_descriptions.json', 'seq_num': 7}), Document(page_content='{\"text\": \"Minimize available services to only those that are necessary.\"}', metadata={'source': '/home/is1ab/code/SEBERT_RAG_CTI/RAG/mitigation_descriptions.json', 'seq_num': 8})], 'context': '{\"text\": \"Develop a robust cyber threat intelligence capability to determine what types and levels of threat may use software exploits and 0-days against a particular organization.\"}\\n\\nexploits and weaknesses in these systems may still exist. [42]\"}\\n\\nExperience Toolkit (EMET) can be used to mitigate some exploitation behavior. [43] Control flow integrity checking is another way to potentially identify and stop a software exploit from occurring.', 'question': 'CTI: APT28 exploited a Windows SMB Remote Code Execution Vulnerability to conduct lateral movement TTP_ID: T1210'}\n",
      "Based on the context, the organization can take several steps to mitigate this threat. Firstly, they should segment their network and systems to reduce access to critical systems and services. Regular scanning of the internal network can help identify new and potentially vulnerable services. \n",
      "\n",
      "Service accounts should have minimal permissions and access to reduce the impact of exploitation. The organization should also keep their software updated and use patch management for their internal enterprise endpoints and servers.\n",
      "\n",
      "Implementing a robust cyber threat intelligence capability can also be beneficial for identifying potential threats that might use software exploits and 0-days. \n",
      "\n",
      "They can also use security applications like Windows Defender Exploit Guard (WDEG) and the Enhanced Mitigation Experience Toolkit (EMET) to mitigate some exploitation behavior. \n",
      "\n",
      "Finally, they should minimize available services to only those that are necessary. This can help reduce the potential avenues of attack for adversaries.\n",
      "\n",
      "However, it is essential to note that these risk mitigation strategies may not prevent all potential exploits or weaknesses, and continuous monitoring and improvement of security measures are necessary.\n"
     ]
    }
   ],
   "source": [
    "\n",
    "cti = \"APT28 exploited a Windows SMB Remote Code Execution Vulnerability to conduct lateral movement\"\n",
    "ttp_id = \"T1210\"\n",
    "\n",
    "context = format_docs(retrieved_docs)\n",
    "question = format_question(cti, ttp_id)\n",
    "\n",
    "\n",
    "input_data = {\n",
    "    \"input_documents\": data,\n",
    "    \"context\": context,\n",
    "    \"question\": question\n",
    "}\n",
    "\n",
    "\n",
    "print(input_data)\n",
    "output = chain.run(input_data)\n",
    "\n",
    "print(output)\n",
    "\n"
   ]
  },
  {
   "cell_type": "code",
   "execution_count": 48,
   "metadata": {},
   "outputs": [
    {
     "name": "stdout",
     "output_type": "stream",
     "text": [
      "Based on the context, the organization can take several steps to mitigate this threat. Firstly, they should segment their network and systems to reduce access to critical systems and services. Regular scanning of the internal network can help identify new and potentially vulnerable services. \n",
      "\n",
      "Service accounts should have minimal permissions and access to reduce the impact of exploitation. The organization should also keep their software updated and use patch management for their internal enterprise endpoints and servers.\n",
      "\n",
      "Implementing a robust cyber threat intelligence capability can also be beneficial for identifying potential threats that might use software exploits and 0-days. \n",
      "\n",
      "They can also use security applications like Windows Defender Exploit Guard (WDEG) and the Enhanced Mitigation Experience Toolkit (EMET) to mitigate some exploitation behavior. \n",
      "\n",
      "Finally, they should minimize available services to only those that are necessary. This can help reduce the potential avenues of attack for adversaries.\n",
      "\n",
      "However, it is essential to note that these risk mitigation strategies may not prevent all potential exploits or weaknesses, and continuous monitoring and improvement of security measures are necessary.\n"
     ]
    }
   ],
   "source": [
    "print(output)"
   ]
  },
  {
   "cell_type": "code",
   "execution_count": 47,
   "metadata": {},
   "outputs": [
    {
     "name": "stdout",
     "output_type": "stream",
     "text": [
      "{\"text\": \"Develop a robust cyber threat intelligence capability to determine what types and levels of threat may use software exploits and 0-days against a particular organization.\"}\n",
      "\n",
      "exploits and weaknesses in these systems may still exist. [42]\"}\n",
      "\n",
      "Experience Toolkit (EMET) can be used to mitigate some exploitation behavior. [43] Control flow integrity checking is another way to potentially identify and stop a software exploit from occurring.\n"
     ]
    }
   ],
   "source": [
    "print(context)"
   ]
  },
  {
   "cell_type": "markdown",
   "metadata": {},
   "source": []
  },
  {
   "cell_type": "code",
   "execution_count": null,
   "metadata": {},
   "outputs": [],
   "source": []
  }
 ],
 "metadata": {
  "kernelspec": {
   "display_name": "Python 3",
   "language": "python",
   "name": "python3"
  },
  "language_info": {
   "codemirror_mode": {
    "name": "ipython",
    "version": 3
   },
   "file_extension": ".py",
   "mimetype": "text/x-python",
   "name": "python",
   "nbconvert_exporter": "python",
   "pygments_lexer": "ipython3",
   "version": "3.8.18"
  }
 },
 "nbformat": 4,
 "nbformat_minor": 2
}
