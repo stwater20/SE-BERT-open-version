{
 "cells": [
  {
   "cell_type": "code",
   "execution_count": 1,
   "metadata": {},
   "outputs": [],
   "source": [
    "import requests\n",
    "import re\n",
    "from bs4 import BeautifulSoup"
   ]
  },
  {
   "cell_type": "code",
   "execution_count": 2,
   "metadata": {},
   "outputs": [],
   "source": [
    "response = requests.get(\n",
    "    \"https://attack.mitre.org/techniques/enterprise/\")\n",
    "soup = BeautifulSoup(response.text, \"html.parser\")\n",
    "# print(soup.prettify())  "
   ]
  },
  {
   "cell_type": "code",
   "execution_count": 3,
   "metadata": {},
   "outputs": [],
   "source": [
    "soup_techniques = soup.find_all(\"tr\", class_=\"technique\")"
   ]
  },
  {
   "cell_type": "code",
   "execution_count": 4,
   "metadata": {},
   "outputs": [
    {
     "data": {
      "text/plain": [
       "625"
      ]
     },
     "execution_count": 4,
     "metadata": {},
     "output_type": "execute_result"
    }
   ],
   "source": [
    "len(soup_techniques)"
   ]
  },
  {
   "cell_type": "code",
   "execution_count": 12,
   "metadata": {},
   "outputs": [],
   "source": [
    "# {\"T1057\":[\"xxxx\",\"cccc\"]}\n",
    "techniques = {}\n",
    "# {\"T1057\":[\"xxxx\",\"cccc\"]}\n",
    "sub_techniques_links = {}\n",
    "technique_id  = \"\"\n",
    "for soup_technique in soup_techniques:\n",
    "    temp_id = soup_technique.select(\"td\")[0].text.strip()\n",
    "    if temp_id != \"\":\n",
    "        technique_id = temp_id\n",
    "        technique_description = soup_technique.select(\"td\")[2].text.strip()\n",
    "        link = soup_technique.select(\"td\")[1].find(\"a\").get(\"href\")\n",
    "        techniques[technique_id] = [technique_description]\n",
    "        sub_techniques_links[technique_id] = [link]\n",
    "    else:\n",
    "        # technique_id = soup_technique.select(\"td\")[1].text.strip()\n",
    "        technique_description = soup_technique.select(\"td\")[3].text.strip()\n",
    "        link = soup_technique.select(\"td\")[2].find(\"a\").get(\"href\")\n",
    "        techniques[technique_id].append(technique_description)\n",
    "        sub_techniques_links[technique_id].append(link)"
   ]
  },
  {
   "cell_type": "code",
   "execution_count": 15,
   "metadata": {},
   "outputs": [],
   "source": [
    "len(techniques)\n",
    "techniques_id = []\n",
    "for key, value in techniques.items():\n",
    "    techniques_id.append(key)"
   ]
  },
  {
   "cell_type": "code",
   "execution_count": null,
   "metadata": {},
   "outputs": [],
   "source": []
  },
  {
   "cell_type": "code",
   "execution_count": 23,
   "metadata": {},
   "outputs": [
    {
     "name": "stdout",
     "output_type": "stream",
     "text": [
      "    TechniqueID MitigationID                           MitigationName  \\\n",
      "0         T1548        M1047                                    Audit   \n",
      "1         T1548        M1038                     Execution Prevention   \n",
      "2         T1548        M1028           Operating System Configuration   \n",
      "3         T1548        M1026            Privileged Account Management   \n",
      "4         T1548        M1022  Restrict File and Directory Permissions   \n",
      "..          ...          ...                                      ...   \n",
      "463       T1047        M1040          Behavior Prevention on Endpoint   \n",
      "464       T1047        M1038                     Execution Prevention   \n",
      "465       T1047        M1026            Privileged Account Management   \n",
      "466       T1047        M1018                  User Account Management   \n",
      "467       T1220        M1038                     Execution Prevention   \n",
      "\n",
      "                                 MitigationDescription  \n",
      "0    Check for common UAC bypass weaknesses on Wind...  \n",
      "1    System settings can prevent applications from ...  \n",
      "2    Applications with known vulnerabilities or kno...  \n",
      "3    Remove users from the local administrator grou...  \n",
      "4    The sudoers file should be strictly edited suc...  \n",
      "..                                                 ...  \n",
      "463  On Windows 10, enable Attack Surface Reduction...  \n",
      "464  Use application control configured to block ex...  \n",
      "465  Prevent credential overlap across systems of a...  \n",
      "466  By default, only administrators are allowed to...  \n",
      "467  If msxsl.exe is unnecessary, then block its ex...  \n",
      "\n",
      "[468 rows x 4 columns]\n"
     ]
    }
   ],
   "source": [
    "import requests\n",
    "from bs4 import BeautifulSoup\n",
    "import pandas as pd\n",
    "\n",
    "\n",
    "mitigations_data = []\n",
    "for technique_id in techniques_id:\n",
    "    url = f\"https://attack.mitre.org/techniques/{technique_id}/\"\n",
    "    response = requests.get(url)\n",
    "    soup = BeautifulSoup(response.text, 'html.parser')\n",
    "    \n",
    "    mitigation_section = soup.find('h2', id='mitigations').find_next('table')\n",
    "    \n",
    "    for row in mitigation_section.find_all('tr')[1:]:  # Skipping the header row\n",
    "        cols = row.find_all('td')\n",
    "        if len(cols) > 2:  # Ensure there are enough columns\n",
    "            mitigation_id = cols[0].text.strip()\n",
    "            mitigation_name = cols[1].text.strip()\n",
    "            mitigation_description = cols[2].text.strip()  # Getting the description directly\n",
    "            if mitigation_id == \"\" or mitigation_name == \"\" or mitigation_description == \"\" or mitigation_id[:2]==\"DS\":\n",
    "                continue\n",
    "            mitigations_data.append({\n",
    "                'TechniqueID': technique_id,\n",
    "                'MitigationID': mitigation_id,\n",
    "                'MitigationName': mitigation_name,\n",
    "                'MitigationDescription': mitigation_description\n",
    "            })\n",
    "            \n",
    "\n",
    "\n",
    "\n",
    "\n",
    "# Convert to DataFrame\n",
    "df = pd.DataFrame(mitigations_data)\n",
    "print(df)\n",
    "# df.to_csv('/mnt/data/mitigations.csv', index=False)  # Save the DataFrame as a CSV\n",
    "\n",
    "# df.head()  # Display the first few rows of the DataFrame\n"
   ]
  },
  {
   "cell_type": "code",
   "execution_count": 24,
   "metadata": {},
   "outputs": [],
   "source": [
    "df.to_excel('../RAG/mitigations.xlsx', index=False)  # Save the DataFrame as a CSV"
   ]
  },
  {
   "cell_type": "code",
   "execution_count": null,
   "metadata": {},
   "outputs": [],
   "source": []
  }
 ],
 "metadata": {
  "kernelspec": {
   "display_name": "techniqueKG",
   "language": "python",
   "name": "python3"
  },
  "language_info": {
   "codemirror_mode": {
    "name": "ipython",
    "version": 3
   },
   "file_extension": ".py",
   "mimetype": "text/x-python",
   "name": "python",
   "nbconvert_exporter": "python",
   "pygments_lexer": "ipython3",
   "version": "3.7.12"
  }
 },
 "nbformat": 4,
 "nbformat_minor": 2
}
