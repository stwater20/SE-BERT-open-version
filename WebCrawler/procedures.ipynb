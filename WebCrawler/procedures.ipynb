{
 "cells": [
  {
   "cell_type": "code",
   "execution_count": 2,
   "metadata": {},
   "outputs": [],
   "source": [
    "import requests\n",
    "import re\n",
    "from bs4 import BeautifulSoup"
   ]
  },
  {
   "cell_type": "code",
   "execution_count": 3,
   "metadata": {},
   "outputs": [],
   "source": [
    "response = requests.get(\n",
    "    \"https://attack.mitre.org/techniques/enterprise/\")\n",
    "soup = BeautifulSoup(response.text, \"html.parser\")\n",
    "# print(soup.prettify())  "
   ]
  },
  {
   "cell_type": "code",
   "execution_count": 4,
   "metadata": {},
   "outputs": [],
   "source": [
    "soup_techniques = soup.find_all(\"tr\", class_=\"technique\")"
   ]
  },
  {
   "cell_type": "code",
   "execution_count": 158,
   "metadata": {},
   "outputs": [
    {
     "data": {
      "text/plain": [
       "594"
      ]
     },
     "execution_count": 158,
     "metadata": {},
     "output_type": "execute_result"
    }
   ],
   "source": [
    "len(soup_techniques)"
   ]
  },
  {
   "cell_type": "code",
   "execution_count": 159,
   "metadata": {},
   "outputs": [],
   "source": [
    "# {\"T1057\":[\"xxxx\",\"cccc\"]}\n",
    "techniques = {}\n",
    "# {\"T1057\":[\"xxxx\",\"cccc\"]}\n",
    "sub_techniques_links = {}"
   ]
  },
  {
   "cell_type": "code",
   "execution_count": null,
   "metadata": {},
   "outputs": [],
   "source": [
    "technique_id  = \"\"\n",
    "for soup_technique in soup_techniques:\n",
    "    temp_id = soup_technique.select(\"td\")[0].text.strip()\n",
    "    if temp_id != \"\":\n",
    "        technique_id = temp_id\n",
    "        technique_description = soup_technique.select(\"td\")[2].text.strip()\n",
    "        link = soup_technique.select(\"td\")[1].find(\"a\").get(\"href\")\n",
    "        techniques[technique_id] = [technique_description]\n",
    "        sub_techniques_links[technique_id] = [link]\n",
    "    else:\n",
    "        # technique_id = soup_technique.select(\"td\")[1].text.strip()\n",
    "        technique_description = soup_technique.select(\"td\")[3].text.strip()\n",
    "        link = soup_technique.select(\"td\")[2].find(\"a\").get(\"href\")\n",
    "        techniques[technique_id].append(technique_description)\n",
    "        sub_techniques_links[technique_id].append(link)"
   ]
  },
  {
   "cell_type": "code",
   "execution_count": 161,
   "metadata": {},
   "outputs": [
    {
     "data": {
      "text/plain": [
       "193"
      ]
     },
     "execution_count": 161,
     "metadata": {},
     "output_type": "execute_result"
    }
   ],
   "source": [
    "len(techniques)"
   ]
  },
  {
   "cell_type": "code",
   "execution_count": null,
   "metadata": {},
   "outputs": [],
   "source": [
    "for key in techniques:\n",
    "    print(key, techniques[key])"
   ]
  },
  {
   "cell_type": "code",
   "execution_count": null,
   "metadata": {},
   "outputs": [],
   "source": [
    "for link in sub_techniques_links:\n",
    "    print(sub_techniques_links[link])"
   ]
  },
  {
   "cell_type": "code",
   "execution_count": 164,
   "metadata": {},
   "outputs": [
    {
     "name": "stderr",
     "output_type": "stream",
     "text": [
      "100%|██████████| 193/193 [14:24<00:00,  4.48s/it]\n"
     ]
    }
   ],
   "source": [
    "from tqdm import tqdm\n",
    "\n",
    "def clean_text(text):\n",
    "    pattern = re.compile(r'\\[\\d+\\]')\n",
    "    text = re.sub(pattern, '', text)\n",
    "    return text\n",
    "\n",
    "host = \"https://attack.mitre.org/\"\n",
    "for links in tqdm(sub_techniques_links):\n",
    "    for link in sub_techniques_links[links]:\n",
    "        response = requests.get(host+link)\n",
    "        soup = BeautifulSoup(response.text, \"html.parser\")\n",
    "        procedure_exist = soup.find(id=\"examples\")\n",
    "        if procedure_exist is not None:\n",
    "            next_node = procedure_exist.find_next()\n",
    "            rows = next_node.find_all(\"tr\")\n",
    "            for row in rows:\n",
    "                if row.find(\"th\") is not None:\n",
    "                    continue\n",
    "                cells = row.find_all(\"td\")\n",
    "                procedure = cells[2].text.strip()\n",
    "                procedure = clean_text(procedure)\n",
    "                techniques[links].append(procedure)\n"
   ]
  },
  {
   "cell_type": "code",
   "execution_count": 165,
   "metadata": {},
   "outputs": [
    {
     "data": {
      "text/plain": [
       "['Adversaries may circumvent mechanisms designed to control elevate privileges to gain higher-level permissions. Most modern systems contain native elevation control mechanisms that are intended to limit privileges that a user can perform on a machine. Authorization has to be granted to specific users in order to perform tasks that can be considered of higher risk. An adversary can perform several methods to take advantage of built-in control mechanisms in order to escalate privileges on a system.',\n",
       " 'An adversary may abuse configurations where an application has the setuid or setgid bits set in order to get code running in a different (and possibly more privileged) user’s context. On Linux or macOS, when the setuid or setgid bits are set for an application binary, the application will run with the privileges of the owning user or group respectively. Normally an application is run in the current user’s context, regardless of which user or group owns the application. However, there are instances where programs need to be executed in an elevated context to function properly, but the user running them may not have the specific required privileges.',\n",
       " 'Adversaries may bypass UAC mechanisms to elevate process privileges on system. Windows User Account Control (UAC) allows a program to elevate its privileges (tracked as integrity levels ranging from low to high) to perform a task under administrator-level permissions, possibly by prompting the user for confirmation. The impact to the user ranges from denying the operation under high enforcement to allowing the user to perform the action if they are in the local administrators group and click through the prompt or allowing them to enter an administrator password to complete the action.',\n",
       " 'Adversaries may perform sudo caching and/or use the sudoers file to elevate privileges. Adversaries may do this to execute commands as other users or spawn processes with higher privileges.',\n",
       " 'Adversaries may leverage the AuthorizationExecuteWithPrivileges API to escalate privileges by prompting the user for credentials. The purpose of this API is to give application developers an easy way to perform operations with root privileges, such as for application installation or updating. This API does not validate that the program requesting root privileges comes from a reputable source or has been maliciously modified.',\n",
       " 'Exaramel for Linux can execute commands with high privileges via a specific binary with setuid functionality.',\n",
       " 'Keydnap adds the setuid flag to a binary so it can easily elevate in the future.',\n",
       " 'AppleJeus has presented the user with a UAC prompt to elevate privileges while installing.',\n",
       " 'APT29 has bypassed UAC.',\n",
       " 'APT37 has a function in the initial dropper to bypass Windows UAC in order to execute the next payload with higher privileges.',\n",
       " 'AutoIt backdoor attempts to escalate privileges by bypassing User Access Control.',\n",
       " 'Avaddon bypasses UAC using the CMSTPLUA COM interface.',\n",
       " 'Bad Rabbit has attempted to bypass UAC and gain elevated administrative privileges.',\n",
       " 'BitPaymer can suppress UAC prompts by setting the HKCU\\\\Software\\\\Classes\\\\ms-settings\\\\shell\\\\open\\\\command registry key on Windows 10 or HKCU\\\\Software\\\\Classes\\\\mscfile\\\\shell\\\\open\\\\command on Windows 7 and launching the eventvwr.msc process, which launches BitPaymer with elevated privileges.',\n",
       " 'BlackEnergy attempts to bypass default User Access Control (UAC) settings by exploiting a backward-compatibility setting found in Windows 7 and later.',\n",
       " 'BRONZE BUTLER has used a Windows 10 specific tool and xxmm to bypass UAC for privilege escalation.',\n",
       " 'Bumblebee has the ability to bypass UAC to deploy post exploitation tools with elevated privileges.',\n",
       " 'Clambling has the ability to bypass UAC using a passuac.dll file.',\n",
       " 'Cobalt Group has bypassed UAC.',\n",
       " 'Cobalt Strike can use a number of known techniques to bypass Windows UAC.',\n",
       " 'CSPY Downloader can bypass UAC using the SilentCleanup task to execute the binary with elevated privileges.',\n",
       " 'Downdelph bypasses UAC to escalate privileges by using a custom \"RedirectEXE\" shim database.',\n",
       " 'Earth Lusca has used the Fodhelper UAC bypass technique to gain elevated privileges.',\n",
       " 'Empire includes various modules to attempt to bypass UAC for escalation of privileges.',\n",
       " 'Evilnum has used PowerShell to bypass UAC.',\n",
       " 'FinFisher performs UAC bypass.',\n",
       " 'Gelsemium can bypass UAC to elevate process privileges on a compromised host.',\n",
       " 'Grandoreiro can bypass UAC by registering as the default handler for .MSC files.',\n",
       " 'H1N1 bypasses user access control by using a DLL hijacking vulnerability in the Windows Update Standalone Installer (wusa.exe).',\n",
       " 'InvisiMole can use fileless UAC bypass and create an elevated COM object to escalate privileges.',\n",
       " 'Koadic has 2 methods for elevating integrity. It can bypass UAC through eventvwr.exe and sdclt.exe.',\n",
       " 'KOCTOPUS will perform UAC bypass either through fodhelper.exe or eventvwr.exe.',\n",
       " 'KONNI has bypassed UAC by performing token impersonation as well as an RPC-based method, this included bypassing UAC set to \"AlwaysNotify\".',\n",
       " 'Lokibot has utilized multiple techniques to bypass UAC.',\n",
       " 'MuddyWater uses various techniques to bypass UAC.',\n",
       " 'During Operation Honeybee, the threat actors used the malicious NTWDBLIB.DLL and cliconfig.exe to bypass UAC protections.',\n",
       " 'Patchwork bypassed User Access Control (UAC).',\n",
       " 'PipeMon installer can use UAC bypass techniques to install the payload.',\n",
       " 'An older variant of PLAINTEE performs UAC bypass.',\n",
       " 'PoshC2 can utilize multiple methods to bypass UAC.',\n",
       " 'Pupy can bypass Windows UAC through either DLL hijacking, eventvwr, or appPaths.',\n",
       " 'QuasarRAT can generate a UAC pop-up Window to prompt the target user to run a command as the administrator.',\n",
       " 'Ramsay can use UACMe for privilege escalation.',\n",
       " 'RCSession can bypass UAC to escalate privileges.',\n",
       " 'Remcos has a command for UAC bypassing.',\n",
       " 'RTM can attempt to run the program as admin, then show a fake error message and a legitimate UAC bypass prompt to the user in an attempt to socially engineer the user into escalating privileges.',\n",
       " 'Saint Bot has attempted to bypass UAC using fodhelper.exe to escalate privileges.',\n",
       " 'Sakula contains UAC bypass code for both 32- and 64-bit systems.',\n",
       " 'Shamoon attempts to disable UAC remote restrictions by modifying the Registry.',\n",
       " 'ShimRat has hijacked the cryptbase.dll within migwiz.exe to escalate privileges. This prevented the User Access Control window from appearing.',\n",
       " \"SILENTTRINITY contains a number of modules that can bypass UAC, including through Window's Device Manager, Manage Optional Features, and an image hijack on the .msc file extension.\",\n",
       " 'A Threat Group-3390 tool can use a public UAC bypass method to elevate privileges.',\n",
       " 'UACMe contains many methods for bypassing Windows User Account Control on multiple versions of the operating system.',\n",
       " 'WarzoneRAT can use sdclt.exe to bypass UAC in Windows 10 to escalate privileges; for older Windows versions WarzoneRAT can use the IFileOperation exploit to bypass the UAC module.',\n",
       " 'WastedLocker can perform a UAC bypass if it is not executed with administrator rights or if the infected host runs Windows Vista or later.',\n",
       " 'Winnti for Windows can use a variant of the sysprep UAC bypass.',\n",
       " 'Many ZeroT samples can perform UAC bypass by using eventvwr.exe to execute a malicious file.',\n",
       " 'Cobalt Strike can use sudo to run a command.',\n",
       " 'Dok adds admin  ALL=(ALL) NOPASSWD: ALL to the /etc/sudoers file.',\n",
       " 'Proton modifies the tty_tickets line in the sudoers file.',\n",
       " 'OSX/Shlayer can escalate privileges to root by asking the user for credentials.']"
      ]
     },
     "execution_count": 165,
     "metadata": {},
     "output_type": "execute_result"
    }
   ],
   "source": [
    "techniques[\"T1548\"]"
   ]
  },
  {
   "cell_type": "code",
   "execution_count": 166,
   "metadata": {},
   "outputs": [],
   "source": [
    "import pickle\n",
    "\n",
    "with open(\"techniques.pkl\", \"wb\") as f:\n",
    "    pickle.dump(techniques, f)"
   ]
  },
  {
   "cell_type": "code",
   "execution_count": 197,
   "metadata": {},
   "outputs": [],
   "source": [
    "import pandas as pd\n",
    "df = pd.DataFrame(columns=[\"text\",\"technique_id\"])\n",
    "c = 0\n",
    "for i in techniques:\n",
    "    for j in techniques[i]:\n",
    "        df.loc[c] = pd.Series({\"text\":j,\"technique_id\":i})\n",
    "        c+=1"
   ]
  },
  {
   "cell_type": "code",
   "execution_count": 199,
   "metadata": {},
   "outputs": [
    {
     "data": {
      "text/html": [
       "<div>\n",
       "<style scoped>\n",
       "    .dataframe tbody tr th:only-of-type {\n",
       "        vertical-align: middle;\n",
       "    }\n",
       "\n",
       "    .dataframe tbody tr th {\n",
       "        vertical-align: top;\n",
       "    }\n",
       "\n",
       "    .dataframe thead th {\n",
       "        text-align: right;\n",
       "    }\n",
       "</style>\n",
       "<table border=\"1\" class=\"dataframe\">\n",
       "  <thead>\n",
       "    <tr style=\"text-align: right;\">\n",
       "      <th></th>\n",
       "      <th>text</th>\n",
       "      <th>technique_id</th>\n",
       "    </tr>\n",
       "  </thead>\n",
       "  <tbody>\n",
       "    <tr>\n",
       "      <th>0</th>\n",
       "      <td>Adversaries may circumvent mechanisms designed...</td>\n",
       "      <td>T1548</td>\n",
       "    </tr>\n",
       "    <tr>\n",
       "      <th>1</th>\n",
       "      <td>An adversary may abuse configurations where an...</td>\n",
       "      <td>T1548</td>\n",
       "    </tr>\n",
       "    <tr>\n",
       "      <th>2</th>\n",
       "      <td>Adversaries may bypass UAC mechanisms to eleva...</td>\n",
       "      <td>T1548</td>\n",
       "    </tr>\n",
       "    <tr>\n",
       "      <th>3</th>\n",
       "      <td>Adversaries may perform sudo caching and/or us...</td>\n",
       "      <td>T1548</td>\n",
       "    </tr>\n",
       "    <tr>\n",
       "      <th>4</th>\n",
       "      <td>Adversaries may leverage the AuthorizationExec...</td>\n",
       "      <td>T1548</td>\n",
       "    </tr>\n",
       "    <tr>\n",
       "      <th>...</th>\n",
       "      <td>...</td>\n",
       "      <td>...</td>\n",
       "    </tr>\n",
       "    <tr>\n",
       "      <th>12001</th>\n",
       "      <td>Adversaries may bypass application control and...</td>\n",
       "      <td>T1220</td>\n",
       "    </tr>\n",
       "    <tr>\n",
       "      <th>12002</th>\n",
       "      <td>Astaroth executes embedded JScript or VBScript...</td>\n",
       "      <td>T1220</td>\n",
       "    </tr>\n",
       "    <tr>\n",
       "      <th>12003</th>\n",
       "      <td>Cobalt Group used msxsl.exe to bypass AppLocke...</td>\n",
       "      <td>T1220</td>\n",
       "    </tr>\n",
       "    <tr>\n",
       "      <th>12004</th>\n",
       "      <td>Higaisa used an XSL file to run VBScript code.</td>\n",
       "      <td>T1220</td>\n",
       "    </tr>\n",
       "    <tr>\n",
       "      <th>12005</th>\n",
       "      <td>Lazarus Group has used WMIC to execute a remot...</td>\n",
       "      <td>T1220</td>\n",
       "    </tr>\n",
       "  </tbody>\n",
       "</table>\n",
       "<p>12006 rows × 2 columns</p>\n",
       "</div>"
      ],
      "text/plain": [
       "                                                    text technique_id\n",
       "0      Adversaries may circumvent mechanisms designed...        T1548\n",
       "1      An adversary may abuse configurations where an...        T1548\n",
       "2      Adversaries may bypass UAC mechanisms to eleva...        T1548\n",
       "3      Adversaries may perform sudo caching and/or us...        T1548\n",
       "4      Adversaries may leverage the AuthorizationExec...        T1548\n",
       "...                                                  ...          ...\n",
       "12001  Adversaries may bypass application control and...        T1220\n",
       "12002  Astaroth executes embedded JScript or VBScript...        T1220\n",
       "12003  Cobalt Group used msxsl.exe to bypass AppLocke...        T1220\n",
       "12004     Higaisa used an XSL file to run VBScript code.        T1220\n",
       "12005  Lazarus Group has used WMIC to execute a remot...        T1220\n",
       "\n",
       "[12006 rows x 2 columns]"
      ]
     },
     "execution_count": 199,
     "metadata": {},
     "output_type": "execute_result"
    }
   ],
   "source": [
    "df"
   ]
  },
  {
   "cell_type": "code",
   "execution_count": 202,
   "metadata": {},
   "outputs": [],
   "source": [
    "df.to_excel(\"techniques.xlsx\", index=False)"
   ]
  },
  {
   "cell_type": "code",
   "execution_count": null,
   "metadata": {},
   "outputs": [],
   "source": []
  }
 ],
 "metadata": {
  "kernelspec": {
   "display_name": "env",
   "language": "python",
   "name": "python3"
  },
  "language_info": {
   "codemirror_mode": {
    "name": "ipython",
    "version": 3
   },
   "file_extension": ".py",
   "mimetype": "text/x-python",
   "name": "python",
   "nbconvert_exporter": "python",
   "pygments_lexer": "ipython3",
   "version": "3.7.12"
  },
  "orig_nbformat": 4
 },
 "nbformat": 4,
 "nbformat_minor": 2
}
